{
 "cells": [
  {
   "cell_type": "markdown",
   "id": "b0eef3a1",
   "metadata": {},
   "source": [
    "# API analytics exercise to extract active user data"
   ]
  },
  {
   "cell_type": "code",
   "execution_count": 6,
   "id": "3c166aaa",
   "metadata": {},
   "outputs": [],
   "source": [
    "import dtlpy as dl #Dataloop's Python SDK Package\n",
    "import requests #library for API requests\n",
    "import time\n",
    "# remember to log in to Dataloop before doing anything.\n",
    "\n",
    "# dl.login() #here is the -log in from above-\n",
    "\n",
    "if dl.token_expired(): # This line checks if you are logged in to Dataloop, and if not, it logs you in\n",
    "    dl.login()         # If it doesn't work, use the simple -log in from above-"
   ]
  },
  {
   "cell_type": "markdown",
   "id": "244da131",
   "metadata": {},
   "source": [
    "## A function that gets the active Users and returns the information as a hash using a POST request"
   ]
  },
  {
   "cell_type": "code",
   "execution_count": 13,
   "id": "bc71a6d3",
   "metadata": {},
   "outputs": [],
   "source": [
    "\n",
    "def get_active_users(project, start_time, end_time=None):\n",
    "    report = list()\n",
    "    page_size = 2\n",
    "    page = 0\n",
    "    has_next = True\n",
    "    while has_next:\n",
    "        payload = {\n",
    "            \"startTime\": start_time,\n",
    "            \"endTime\": end_time,\n",
    "            \"context\": {\n",
    "                \"projectId\": [project.id],\n",
    "            },\n",
    "            \"measures\": [{\"measureType\": \"activeUsers\",\n",
    "                          \"page\": page,\n",
    "                          \"pageSize\": page_size,\n",
    "                          \"sortDirection\": \"descending\"}]\n",
    "        }\n",
    "\n",
    "        samples = requests.post(dl.environment() + '/analytics/query',\n",
    "                                headers=dl.client_api.auth,\n",
    "                                json=payload)\n",
    "        try:\n",
    "            samples = samples.json()\n",
    "        except KeyError as r:\n",
    "            print('analytics report: Error: {}'.format(r))\n",
    "            return\n",
    "\n",
    "        if len(samples) != 0 and 'response' in samples[0]:\n",
    "            report += samples[0]['response']\n",
    "            has_next = samples[0]['hasNext']\n",
    "            page += 1\n",
    "        else:\n",
    "            has_next = False\n",
    "    return get_user_info_by_hash(report)\n",
    "\n",
    "\n",
    "def get_user_info_by_hash(hash_tokens):\n",
    "    samples = requests.post(dl.environment() + '/users/hash',\n",
    "                            headers=dl.client_api.auth,\n",
    "                            json=hash_tokens)\n",
    "    try:\n",
    "        samples = samples.json()\n",
    "    except KeyError as r:\n",
    "        print('analytics report: Error: {}'.format(r))\n",
    "        return\n",
    "    return samples\n",
    "\n"
   ]
  },
  {
   "cell_type": "markdown",
   "id": "5eaa5daa",
   "metadata": {},
   "source": [
    "# A function that gets a all User information (report) as a hash. It uses the get_active_users() function above to get the users and then it also gets the user information"
   ]
  },
  {
   "cell_type": "code",
   "execution_count": 8,
   "id": "4544aa11",
   "metadata": {},
   "outputs": [],
   "source": [
    "\n",
    "def get_report(project: dl.Project, start_time: int, end_time: int = None):\n",
    "    \"\"\"\n",
    "    generate list of activities for all annotators in all tasks between dates\n",
    "    :param project: project to execute the report\n",
    "    :param start_time: MS since the epoch, in UTC.\n",
    "    :param end_time: MS since the epoch, in UTC.\n",
    "    :return: report, active_users\n",
    "    \"\"\"\n",
    "    report = list()\n",
    "    page_size = 100\n",
    "    page = 0\n",
    "    has_next = True\n",
    "    while has_next:\n",
    "        payload = {\n",
    "            \"startTime\": start_time,\n",
    "            \"endTime\": end_time,\n",
    "            \"context\": {\n",
    "                \"projectId\": [project.id],\n",
    "            },\n",
    "            \"measures\": [{\"measureType\": \"userStatsActivityTimeByField\",\n",
    "                          \"page\": page,\n",
    "                          \"pageSize\": page_size,\n",
    "                          \"params\": {\n",
    "                              \"groupByFields\": [\"taskId\", \"itemId\", \"userId\"]\n",
    "                          },\n",
    "                          \"sortDirection\": \"descending\"}]\n",
    "        }\n",
    "        samples = requests.post(dl.environment() + '/analytics/query',\n",
    "                                headers=dl.client_api.auth,\n",
    "                                json=payload)\n",
    "        try:\n",
    "            samples = samples.json()\n",
    "        except KeyError as r:\n",
    "            print('analytics report: Error: {}'.format(r))\n",
    "            return\n",
    "        if len(samples) != 0 and 'response' in samples[0]:\n",
    "            report += samples[0]['response']\n",
    "            has_next = samples[0]['hasNext']\n",
    "            page += 1\n",
    "        else:\n",
    "            has_next = False\n",
    "    active_users_list = get_active_users(project=project, start_time=start_time, end_time=None)\n",
    "    active_users = dict()\n",
    "    for active_user in active_users_list:\n",
    "        active_users[active_user['hash']] = active_user\n",
    "\n",
    "    return report, active_users\n",
    "\n"
   ]
  },
  {
   "cell_type": "markdown",
   "id": "cc673b60",
   "metadata": {},
   "source": [
    "## The main function where we define the time from which we want to Querry(start_time), select the project we want to run analytics on and then print everything we extracted on screen\n",
    "\n"
   ]
  },
  {
   "cell_type": "code",
   "execution_count": null,
   "id": "8bf069e9",
   "metadata": {},
   "outputs": [],
   "source": [
    "def main():\n",
    "    dl.setenv(\"rc\")\n",
    "    # dl.login()\n",
    "    now = int(time.time() * 1000)\n",
    "    day = 60*60*24*1000\n",
    "    start_time = now - day * 30\n",
    "    # the start_time example above shows how you can define the starting time for the analytics as 30 days ag\n",
    "    # if you want to set the start time to 90 days ago, replace the 30 with 90\n",
    "    \n",
    "    project = dl.projects.get(project_name=\"My-First-Project1\")#change with your own project's name\n",
    "    \n",
    "    #we set the start time = when the project was created (Querry all of the Project's timeline)\n",
    "    start_time = project.created_at \n",
    "    \n",
    "    report, active_user = get_report(project=project, start_time=start_time) \n",
    "    #printing the extracted information\n",
    "    for line in report:\n",
    "        print(\"taskId: {}, itemId: {} user: {}, activityStatus: {}, duration {} \".format(\n",
    "            line['taskId'],\n",
    "            line['itemId'],\n",
    "            active_user[line['userId']]['username'],\n",
    "            line['activityStatus'],\n",
    "            line['duration']))\n",
    "\n",
    "#after we define the main, we simple execute it, as seen below\n",
    "if __name__ == \"__main__\":\n",
    "    main()\n"
   ]
  },
  {
   "cell_type": "code",
   "execution_count": null,
   "id": "ce991ef6",
   "metadata": {},
   "outputs": [],
   "source": []
  }
 ],
 "metadata": {
  "kernelspec": {
   "display_name": "Python 3 (ipykernel)",
   "language": "python",
   "name": "python3"
  },
  "language_info": {
   "codemirror_mode": {
    "name": "ipython",
    "version": 3
   },
   "file_extension": ".py",
   "mimetype": "text/x-python",
   "name": "python",
   "nbconvert_exporter": "python",
   "pygments_lexer": "ipython3",
   "version": "3.10.9"
  }
 },
 "nbformat": 4,
 "nbformat_minor": 5
}
